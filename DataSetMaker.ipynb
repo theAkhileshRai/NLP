{
  "nbformat": 4,
  "nbformat_minor": 0,
  "metadata": {
    "colab": {
      "name": "DataSetMaker.ipynb",
      "provenance": [],
      "toc_visible": true,
      "authorship_tag": "ABX9TyMl5ej24iH8cj6yYJCVBiC6",
      "include_colab_link": true
    },
    "kernelspec": {
      "name": "python3",
      "display_name": "Python 3"
    }
  },
  "cells": [
    {
      "cell_type": "markdown",
      "metadata": {
        "id": "view-in-github",
        "colab_type": "text"
      },
      "source": [
        "<a href=\"https://colab.research.google.com/github/theAkhileshRai/NLP/blob/master/DataSetMaker.ipynb\" target=\"_parent\"><img src=\"https://colab.research.google.com/assets/colab-badge.svg\" alt=\"Open In Colab\"/></a>"
      ]
    },
    {
      "cell_type": "code",
      "metadata": {
        "id": "7N25IDJZ6i_B",
        "colab_type": "code",
        "colab": {}
      },
      "source": [
        "from __future__ import division, print_function\n",
        "%matplotlib inline\n",
        "\n",
        "import matplotlib\n",
        "import numpy as np\n",
        "import matplotlib.pyplot as plt\n",
        "import json\n",
        "from collections import defaultdict\n",
        "from nltk import wordpunct_tokenize\n",
        "from scipy.stats import pearsonr, spearmanr"
      ],
      "execution_count": 0,
      "outputs": []
    },
    {
      "cell_type": "markdown",
      "metadata": {
        "id": "jEKCc9MggiBS",
        "colab_type": "text"
      },
      "source": [
        "# New Section"
      ]
    },
    {
      "cell_type": "markdown",
      "metadata": {
        "id": "BIlb7mjp6n1Q",
        "colab_type": "text"
      },
      "source": [
        "# New Section"
      ]
    },
    {
      "cell_type": "code",
      "metadata": {
        "id": "bWPxeec_6jsO",
        "colab_type": "code",
        "colab": {}
      },
      "source": [
        "url = '/content/sample_data/train_full.json'\n",
        "\n",
        "with open(url) as f:\n",
        "    dataset = json.load(f)"
      ],
      "execution_count": 0,
      "outputs": []
    },
    {
      "cell_type": "code",
      "metadata": {
        "id": "qwqIAch4jCIe",
        "colab_type": "code",
        "colab": {}
      },
      "source": [
        "human_human, human_bot = np.zeros((len(dataset), )), np.zeros((len(dataset), ))\n",
        "for i, d in enumerate(dataset):\n",
        "    human, bot = 0, 0\n",
        "    for u in d['users']:\n",
        "        if u['userType'] == 'Human':\n",
        "            human += 1\n",
        "        elif u['userType'] == 'Bot':\n",
        "            bot += 1\n",
        "        else:\n",
        "            print('Unknown user type: {}'.format(u['userType']))\n",
        "    if human == 2:\n",
        "        human_human[i] = 1\n",
        "    elif human == 1 and bot == 1:\n",
        "        human_bot[i] = 1\n",
        "    else:\n",
        "        print('Unknown combination of users: human = {}, bot = {}'.format(human, bot))"
      ],
      "execution_count": 0,
      "outputs": []
    },
    {
      "cell_type": "code",
      "metadata": {
        "id": "uRgziPh_jOd-",
        "colab_type": "code",
        "colab": {}
      },
      "source": [
        "silent_user = []\n",
        "long_dialogue = []\n",
        "empty_dialogue = []\n",
        "for i, d in enumerate(dataset):\n",
        "    user_utt = defaultdict(int)\n",
        "    user_map = {}\n",
        "    if len(d['thread']) == 0:\n",
        "        empty_dialogue.append(i)\n",
        "        continue\n",
        "    for th in d['thread']:\n",
        "        user_utt[th['userId']] += 1\n",
        "    for u in d['users']:\n",
        "        if u['userType'] == 'Human':\n",
        "            user_map[u['id']] = 'human'\n",
        "        elif u['userType'] == 'Bot':\n",
        "            user_map[u['id']] = 'bot'\n",
        "        else:\n",
        "            print('Unknown user type: {}'.format(u['userType']))\n",
        "    for u in user_map:\n",
        "        if u not in user_utt:\n",
        "            silent_user.append(i)\n",
        "            break\n",
        "    ok = False\n",
        "    for u in user_map:\n",
        "        if user_utt[u] > 2:\n",
        "            if ok:\n",
        "                long_dialogue.append(i)\n",
        "            else:\n",
        "                ok = True"
      ],
      "execution_count": 0,
      "outputs": []
    },
    {
      "cell_type": "code",
      "metadata": {
        "id": "4aaRP2ewjVCo",
        "colab_type": "code",
        "colab": {
          "base_uri": "https://localhost:8080/",
          "height": 98
        },
        "outputId": "1ca72c29-5910-491f-e7ed-4fff9dc13717"
      },
      "source": [
        "print('\\t\\t\\tTotal\\tHuman-to-bot\\tHuman-to-human')\n",
        "\n",
        "# Total\n",
        "hh_dialog = [d for i, d in enumerate(dataset) if human_human[i] == 1]\n",
        "hb_dialog = [d for i, d in enumerate(dataset) if human_bot[i] == 1]\n",
        "print('All dialogues\\t\\t{}\\t\\t{}\\t\\t{}'.format(len(dataset), len(hh_dialog), len(hb_dialog)))\n",
        "\n",
        "# Empty\n",
        "hh_empty = [d for i, d in enumerate(empty_dialogue) if human_human[i] == 1]\n",
        "hb_emtpy = [d for i, d in enumerate(empty_dialogue) if human_bot[i] == 1]\n",
        "print('Empty dialogues\\t\\t{}\\t\\t{}\\t\\t{}'.format(len(empty_dialogue), len(hh_empty), len(hb_emtpy)))\n",
        "\n",
        "# One-sided\n",
        "hh_silent = [d for i, d in enumerate(silent_user) if human_human[i] == 1]\n",
        "hb_silent = [d for i, d in enumerate(silent_user) if human_bot[i] == 1]\n",
        "print('One-sided dialogues\\t{}\\t\\t{}\\t\\t{}'.format(len(silent_user), len(hh_silent), len(hb_silent)))\n",
        "\n",
        "# Long dialogues\n",
        "hh_long = [d for i, d in enumerate(long_dialogue) if human_human[i] == 1]\n",
        "hb_long = [d for i, d in enumerate(long_dialogue) if human_bot[i] == 1]\n",
        "print('Long dialogues\\t\\t{}\\t\\t{}\\t\\t{}'.format(len(long_dialogue), len(hh_long), len(hb_long)))"
      ],
      "execution_count": 60,
      "outputs": [
        {
          "output_type": "stream",
          "text": [
            "\t\t\tTotal\tHuman-to-bot\tHuman-to-human\n",
            "All dialogues\t\t2778\t\t441\t\t2337\n",
            "Empty dialogues\t\t119\t\t66\t\t53\n",
            "One-sided dialogues\t560\t\t229\t\t331\n",
            "Long dialogues\t\t1719\t\t368\t\t1351\n"
          ],
          "name": "stdout"
        }
      ]
    },
    {
      "cell_type": "markdown",
      "metadata": {
        "id": "28FG-Ynm6kJx",
        "colab_type": "text"
      },
      "source": [
        ""
      ]
    },
    {
      "cell_type": "code",
      "metadata": {
        "id": "WMerdKF_jhc0",
        "colab_type": "code",
        "colab": {}
      },
      "source": [
        "from pandas.io.json import json_normalize\n",
        "import pandas as pd\n",
        "\n",
        "df_hb_dialog = pd.DataFrame.from_dict(json_normalize(hb_dialog), orient='columns')"
      ],
      "execution_count": 0,
      "outputs": []
    },
    {
      "cell_type": "code",
      "metadata": {
        "id": "grmw_CDamJ-S",
        "colab_type": "code",
        "colab": {
          "base_uri": "https://localhost:8080/",
          "height": 115
        },
        "outputId": "ba5aab25-8a0a-4758-f727-e53631406568"
      },
      "source": [
        "df_hb_dialog['thread'].head()"
      ],
      "execution_count": 62,
      "outputs": [
        {
          "output_type": "execute_result",
          "data": {
            "text/plain": [
              "0    [{'evaluation': 0, 'text': 'Hi', 'userId': 'Al...\n",
              "1    [{'evaluation': 2, 'text': 'Hello my friend . ...\n",
              "2                                                   []\n",
              "3                                                   []\n",
              "4    [{'evaluation': 0, 'text': 'Hi, what this text...\n",
              "Name: thread, dtype: object"
            ]
          },
          "metadata": {
            "tags": []
          },
          "execution_count": 62
        }
      ]
    },
    {
      "cell_type": "code",
      "metadata": {
        "id": "w7CqrBI3pfu_",
        "colab_type": "code",
        "colab": {}
      },
      "source": [
        "human_utt, bot_utt = [],[]\n",
        "for i, d in enumerate(hb_dialog):\n",
        "    users = {}\n",
        "    for u in d['users']:\n",
        "        if u['userType'] == 'Human':\n",
        "            users[u['id']] = 'human'\n",
        "        elif u['userType'] == 'Bot':\n",
        "            users[u['id']] = 'bot'\n",
        "    for th in d['thread']:\n",
        "        if th['text'] != 0:\n",
        "            try:\n",
        "                if users[th['userId']] == 'human':\n",
        "                    human_utt.append(th['text'])\n",
        "                elif users[th['userId']] == 'bot':\n",
        "                    bot_utt.append(th['text'])\n",
        "            except KeyError:\n",
        "                print('Unknown user {} in dialogue {}'.format(th['userId'], i))\n"
      ],
      "execution_count": 0,
      "outputs": []
    },
    {
      "cell_type": "code",
      "metadata": {
        "id": "jaQk9_01rNe3",
        "colab_type": "code",
        "colab": {
          "base_uri": "https://localhost:8080/",
          "height": 32
        },
        "outputId": "c953f73e-d966-4e9d-dad2-40f7c9a4a0ab"
      },
      "source": [
        "len(bot_utt)"
      ],
      "execution_count": 64,
      "outputs": [
        {
          "output_type": "execute_result",
          "data": {
            "text/plain": [
              "12602"
            ]
          },
          "metadata": {
            "tags": []
          },
          "execution_count": 64
        }
      ]
    },
    {
      "cell_type": "code",
      "metadata": {
        "id": "gjhVbPESxG1u",
        "colab_type": "code",
        "colab": {
          "base_uri": "https://localhost:8080/",
          "height": 32
        },
        "outputId": "914a3e6e-4115-4f0a-9c7e-424d13f0b472"
      },
      "source": [
        "len(human_utt)"
      ],
      "execution_count": 65,
      "outputs": [
        {
          "output_type": "execute_result",
          "data": {
            "text/plain": [
              "12482"
            ]
          },
          "metadata": {
            "tags": []
          },
          "execution_count": 65
        }
      ]
    },
    {
      "cell_type": "code",
      "metadata": {
        "id": "3GLsApl9ykdC",
        "colab_type": "code",
        "colab": {
          "base_uri": "https://localhost:8080/",
          "height": 201
        },
        "outputId": "815ae5fa-0a0b-49d2-dbf6-e904a1289e8e"
      },
      "source": [
        "import pandas as pd\n",
        "import numpy as np\n",
        "human_utt = np.array(human_utt)\n",
        "bot_utt = np.array(bot_utt)\n",
        "df_train_bot = pd.DataFrame({'Bot': bot_utt})\n",
        "df_train_bot.head()"
      ],
      "execution_count": 66,
      "outputs": [
        {
          "output_type": "execute_result",
          "data": {
            "text/html": [
              "<div>\n",
              "<style scoped>\n",
              "    .dataframe tbody tr th:only-of-type {\n",
              "        vertical-align: middle;\n",
              "    }\n",
              "\n",
              "    .dataframe tbody tr th {\n",
              "        vertical-align: top;\n",
              "    }\n",
              "\n",
              "    .dataframe thead th {\n",
              "        text-align: right;\n",
              "    }\n",
              "</style>\n",
              "<table border=\"1\" class=\"dataframe\">\n",
              "  <thead>\n",
              "    <tr style=\"text-align: right;\">\n",
              "      <th></th>\n",
              "      <th>Bot</th>\n",
              "    </tr>\n",
              "  </thead>\n",
              "  <tbody>\n",
              "    <tr>\n",
              "      <th>0</th>\n",
              "      <td>Who uses the four stages of civil society ?</td>\n",
              "    </tr>\n",
              "    <tr>\n",
              "      <th>1</th>\n",
              "      <td>Ehh its incorrect. Hint: first 3 answer letter...</td>\n",
              "    </tr>\n",
              "    <tr>\n",
              "      <th>2</th>\n",
              "      <td>What</td>\n",
              "    </tr>\n",
              "    <tr>\n",
              "      <th>3</th>\n",
              "      <td>Please, speak with me.</td>\n",
              "    </tr>\n",
              "    <tr>\n",
              "      <th>4</th>\n",
              "      <td>Please, speak with me. It gives me energy to live</td>\n",
              "    </tr>\n",
              "  </tbody>\n",
              "</table>\n",
              "</div>"
            ],
            "text/plain": [
              "                                                 Bot\n",
              "0        Who uses the four stages of civil society ?\n",
              "1  Ehh its incorrect. Hint: first 3 answer letter...\n",
              "2                                               What\n",
              "3                             Please, speak with me.\n",
              "4  Please, speak with me. It gives me energy to live"
            ]
          },
          "metadata": {
            "tags": []
          },
          "execution_count": 66
        }
      ]
    },
    {
      "cell_type": "code",
      "metadata": {
        "id": "fugLpUyi0xZF",
        "colab_type": "code",
        "colab": {
          "base_uri": "https://localhost:8080/",
          "height": 201
        },
        "outputId": "ae1062de-ffc7-42e4-92d8-ed34b5fb53c5"
      },
      "source": [
        "df_train_human = pd.DataFrame({'Human': human_utt})\n",
        "df_train_human.head()"
      ],
      "execution_count": 67,
      "outputs": [
        {
          "output_type": "execute_result",
          "data": {
            "text/html": [
              "<div>\n",
              "<style scoped>\n",
              "    .dataframe tbody tr th:only-of-type {\n",
              "        vertical-align: middle;\n",
              "    }\n",
              "\n",
              "    .dataframe tbody tr th {\n",
              "        vertical-align: top;\n",
              "    }\n",
              "\n",
              "    .dataframe thead th {\n",
              "        text-align: right;\n",
              "    }\n",
              "</style>\n",
              "<table border=\"1\" class=\"dataframe\">\n",
              "  <thead>\n",
              "    <tr style=\"text-align: right;\">\n",
              "      <th></th>\n",
              "      <th>Human</th>\n",
              "    </tr>\n",
              "  </thead>\n",
              "  <tbody>\n",
              "    <tr>\n",
              "      <th>0</th>\n",
              "      <td>Hi</td>\n",
              "    </tr>\n",
              "    <tr>\n",
              "      <th>1</th>\n",
              "      <td>What is your name?</td>\n",
              "    </tr>\n",
              "    <tr>\n",
              "      <th>2</th>\n",
              "      <td>a Thursday or Wednesday</td>\n",
              "    </tr>\n",
              "    <tr>\n",
              "      <th>3</th>\n",
              "      <td>friday</td>\n",
              "    </tr>\n",
              "    <tr>\n",
              "      <th>4</th>\n",
              "      <td>13</td>\n",
              "    </tr>\n",
              "  </tbody>\n",
              "</table>\n",
              "</div>"
            ],
            "text/plain": [
              "                     Human\n",
              "0                       Hi\n",
              "1       What is your name?\n",
              "2  a Thursday or Wednesday\n",
              "3                   friday\n",
              "4                       13"
            ]
          },
          "metadata": {
            "tags": []
          },
          "execution_count": 67
        }
      ]
    },
    {
      "cell_type": "code",
      "metadata": {
        "id": "k6zGVQ176VAC",
        "colab_type": "code",
        "colab": {
          "base_uri": "https://localhost:8080/",
          "height": 201
        },
        "outputId": "29d251dc-3321-43d9-afb0-55d1d09d3297"
      },
      "source": [
        "df_train = pd.concat([df_train_human,df_train_bot],ignore_index=True,sort=False)\n",
        "df_train.head()"
      ],
      "execution_count": 75,
      "outputs": [
        {
          "output_type": "execute_result",
          "data": {
            "text/html": [
              "<div>\n",
              "<style scoped>\n",
              "    .dataframe tbody tr th:only-of-type {\n",
              "        vertical-align: middle;\n",
              "    }\n",
              "\n",
              "    .dataframe tbody tr th {\n",
              "        vertical-align: top;\n",
              "    }\n",
              "\n",
              "    .dataframe thead th {\n",
              "        text-align: right;\n",
              "    }\n",
              "</style>\n",
              "<table border=\"1\" class=\"dataframe\">\n",
              "  <thead>\n",
              "    <tr style=\"text-align: right;\">\n",
              "      <th></th>\n",
              "      <th>Human</th>\n",
              "      <th>Bot</th>\n",
              "    </tr>\n",
              "  </thead>\n",
              "  <tbody>\n",
              "    <tr>\n",
              "      <th>0</th>\n",
              "      <td>Hi</td>\n",
              "      <td>NaN</td>\n",
              "    </tr>\n",
              "    <tr>\n",
              "      <th>1</th>\n",
              "      <td>What is your name?</td>\n",
              "      <td>NaN</td>\n",
              "    </tr>\n",
              "    <tr>\n",
              "      <th>2</th>\n",
              "      <td>a Thursday or Wednesday</td>\n",
              "      <td>NaN</td>\n",
              "    </tr>\n",
              "    <tr>\n",
              "      <th>3</th>\n",
              "      <td>friday</td>\n",
              "      <td>NaN</td>\n",
              "    </tr>\n",
              "    <tr>\n",
              "      <th>4</th>\n",
              "      <td>13</td>\n",
              "      <td>NaN</td>\n",
              "    </tr>\n",
              "  </tbody>\n",
              "</table>\n",
              "</div>"
            ],
            "text/plain": [
              "                     Human  Bot\n",
              "0                       Hi  NaN\n",
              "1       What is your name?  NaN\n",
              "2  a Thursday or Wednesday  NaN\n",
              "3                   friday  NaN\n",
              "4                       13  NaN"
            ]
          },
          "metadata": {
            "tags": []
          },
          "execution_count": 75
        }
      ]
    },
    {
      "cell_type": "code",
      "metadata": {
        "id": "S7DQx_9v7eoW",
        "colab_type": "code",
        "colab": {}
      },
      "source": [
        "df_train.to_csv('HumanBot.csv')"
      ],
      "execution_count": 0,
      "outputs": []
    },
    {
      "cell_type": "code",
      "metadata": {
        "id": "2Xl17fgsRvwm",
        "colab_type": "code",
        "colab": {
          "base_uri": "https://localhost:8080/",
          "height": 201
        },
        "outputId": "a7fada09-fa83-457f-8456-f98445f04c98"
      },
      "source": [
        "df_final = pd.read_excel(\"/content/sample_data/HumanBotInteraction.xlsm\")\n",
        "df_final.head()"
      ],
      "execution_count": 81,
      "outputs": [
        {
          "output_type": "execute_result",
          "data": {
            "text/html": [
              "<div>\n",
              "<style scoped>\n",
              "    .dataframe tbody tr th:only-of-type {\n",
              "        vertical-align: middle;\n",
              "    }\n",
              "\n",
              "    .dataframe tbody tr th {\n",
              "        vertical-align: top;\n",
              "    }\n",
              "\n",
              "    .dataframe thead th {\n",
              "        text-align: right;\n",
              "    }\n",
              "</style>\n",
              "<table border=\"1\" class=\"dataframe\">\n",
              "  <thead>\n",
              "    <tr style=\"text-align: right;\">\n",
              "      <th></th>\n",
              "      <th>Index</th>\n",
              "      <th>Human</th>\n",
              "      <th>Bot</th>\n",
              "    </tr>\n",
              "  </thead>\n",
              "  <tbody>\n",
              "    <tr>\n",
              "      <th>0</th>\n",
              "      <td>0</td>\n",
              "      <td>Hi</td>\n",
              "      <td>What?</td>\n",
              "    </tr>\n",
              "    <tr>\n",
              "      <th>1</th>\n",
              "      <td>1</td>\n",
              "      <td>What is your name?</td>\n",
              "      <td>I am bot</td>\n",
              "    </tr>\n",
              "    <tr>\n",
              "      <th>2</th>\n",
              "      <td>2</td>\n",
              "      <td>Bye</td>\n",
              "      <td>It was nice chatting with you! talk to you soo...</td>\n",
              "    </tr>\n",
              "    <tr>\n",
              "      <th>3</th>\n",
              "      <td>3</td>\n",
              "      <td>No, i don't think so</td>\n",
              "      <td>Do you know Hashim in person?\\n</td>\n",
              "    </tr>\n",
              "    <tr>\n",
              "      <th>4</th>\n",
              "      <td>4</td>\n",
              "      <td>Dynamics in the early mulsim world always stri...</td>\n",
              "      <td>before dying Prof.Muhammed(PBUH) named Muhamma...</td>\n",
              "    </tr>\n",
              "  </tbody>\n",
              "</table>\n",
              "</div>"
            ],
            "text/plain": [
              "   Index  ...                                                Bot\n",
              "0      0  ...                                              What?\n",
              "1      1  ...                                           I am bot\n",
              "2      2  ...  It was nice chatting with you! talk to you soo...\n",
              "3      3  ...                    Do you know Hashim in person?\\n\n",
              "4      4  ...  before dying Prof.Muhammed(PBUH) named Muhamma...\n",
              "\n",
              "[5 rows x 3 columns]"
            ]
          },
          "metadata": {
            "tags": []
          },
          "execution_count": 81
        }
      ]
    },
    {
      "cell_type": "code",
      "metadata": {
        "id": "yVikesNjUSKf",
        "colab_type": "code",
        "colab": {
          "base_uri": "https://localhost:8080/",
          "height": 115
        },
        "outputId": "23cda557-e3ce-45cb-e8d7-e2183b8e1387"
      },
      "source": [
        "df_final['Bot'].head()"
      ],
      "execution_count": 82,
      "outputs": [
        {
          "output_type": "execute_result",
          "data": {
            "text/plain": [
              "0                                                What?\n",
              "1                                             I am bot\n",
              "2    It was nice chatting with you! talk to you soo...\n",
              "3                      Do you know Hashim in person?\\n\n",
              "4    before dying Prof.Muhammed(PBUH) named Muhamma...\n",
              "Name: Bot, dtype: object"
            ]
          },
          "metadata": {
            "tags": []
          },
          "execution_count": 82
        }
      ]
    }
  ]
}