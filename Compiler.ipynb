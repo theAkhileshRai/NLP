{
  "nbformat": 4,
  "nbformat_minor": 0,
  "metadata": {
    "colab": {
      "name": "Compiler.ipynb",
      "provenance": [],
      "authorship_tag": "ABX9TyPFl+DubzffrFrnUV9uhO5M",
      "include_colab_link": true
    },
    "kernelspec": {
      "name": "python3",
      "display_name": "Python 3"
    }
  },
  "cells": [
    {
      "cell_type": "markdown",
      "metadata": {
        "id": "view-in-github",
        "colab_type": "text"
      },
      "source": [
        "<a href=\"https://colab.research.google.com/github/theAkhileshRai/NLP/blob/master/Compiler.ipynb\" target=\"_parent\"><img src=\"https://colab.research.google.com/assets/colab-badge.svg\" alt=\"Open In Colab\"/></a>"
      ]
    },
    {
      "cell_type": "code",
      "metadata": {
        "id": "LeGXLG52f24j",
        "colab_type": "code",
        "colab": {
          "base_uri": "https://localhost:8080/",
          "height": 115
        },
        "outputId": "a3ad31eb-ef85-45c3-ec83-5854da844e2c"
      },
      "source": [
        "! pip install ghostscript\n",
        "! pip install pyleri\n",
        "! pip install rply\n",
        "!pip install llvmlite"
      ],
      "execution_count": 2,
      "outputs": [
        {
          "output_type": "stream",
          "text": [
            "Requirement already satisfied: ghostscript in /usr/local/lib/python3.6/dist-packages (0.6)\n",
            "Requirement already satisfied: setuptools in /usr/local/lib/python3.6/dist-packages (from ghostscript) (45.1.0)\n",
            "Requirement already satisfied: pyleri in /usr/local/lib/python3.6/dist-packages (1.3.2)\n",
            "Requirement already satisfied: rply in /usr/local/lib/python3.6/dist-packages (0.7.7)\n",
            "Requirement already satisfied: appdirs in /usr/local/lib/python3.6/dist-packages (from rply) (1.4.3)\n",
            "Requirement already satisfied: llvmlite in /usr/local/lib/python3.6/dist-packages (0.31.0)\n"
          ],
          "name": "stdout"
        }
      ]
    },
    {
      "cell_type": "markdown",
      "metadata": {
        "id": "xrxcCKf2g9Af",
        "colab_type": "text"
      },
      "source": [
        "# Custom Python Compiler\n",
        "## 1. Lexer\n",
        "The first component of our compiler is the Lexer. It’s role is to take the program as input and divide it into Tokens.\n"
      ]
    },
    {
      "cell_type": "code",
      "metadata": {
        "id": "wIlt-JFOg7YF",
        "colab_type": "code",
        "colab": {}
      },
      "source": [
        "from rply import LexerGenerator\n",
        "class Lexer():\n",
        "    def __init__(self):\n",
        "        self.lexer = LexerGenerator()\n",
        "\n",
        "    def _add_tokens(self):\n",
        "        # Print\n",
        "        self.lexer.add('PRINT', r'print')\n",
        "        # Parenthesis\n",
        "        self.lexer.add('OPEN_PAREN', r'\\(')\n",
        "        self.lexer.add('CLOSE_PAREN', r'\\)')\n",
        "        # Semi Colon\n",
        "        self.lexer.add('SEMI_COLON', r'\\;')\n",
        "        # Operators\n",
        "        self.lexer.add('SUM', r'\\+')\n",
        "        self.lexer.add('SUB', r'\\-')\n",
        "        # Number\n",
        "        self.lexer.add('NUMBER', r'\\d+')\n",
        "        # Ignore spaces\n",
        "        self.lexer.ignore('\\s+')\n",
        "\n",
        "    def get_lexer(self):\n",
        "        self._add_tokens()\n",
        "        return self.lexer.build()"
      ],
      "execution_count": 0,
      "outputs": []
    },
    {
      "cell_type": "code",
      "metadata": {
        "id": "l-qb5y7rmJ5g",
        "colab_type": "code",
        "colab": {
          "base_uri": "https://localhost:8080/",
          "height": 164
        },
        "outputId": "66a5971a-03c5-41d5-af76-40544e4d9e4b"
      },
      "source": [
        "#from lexer import Lexer\n",
        "\n",
        "text_input = \"\"\"\n",
        "print(4 + 4 - 2);\n",
        "\"\"\"\n",
        "\n",
        "lexer = Lexer().get_lexer()\n",
        "tokens = lexer.lex(text_input)\n",
        "\n",
        "for token in tokens:\n",
        "    print(token)"
      ],
      "execution_count": 6,
      "outputs": [
        {
          "output_type": "stream",
          "text": [
            "Token('PRINT', 'print')\n",
            "Token('OPEN_PAREN', '(')\n",
            "Token('NUMBER', '4')\n",
            "Token('SUM', '+')\n",
            "Token('NUMBER', '4')\n",
            "Token('SUB', '-')\n",
            "Token('NUMBER', '2')\n",
            "Token('CLOSE_PAREN', ')')\n",
            "Token('SEMI_COLON', ';')\n"
          ],
          "name": "stdout"
        }
      ]
    },
    {
      "cell_type": "code",
      "metadata": {
        "id": "NwshazHyoEPD",
        "colab_type": "code",
        "colab": {}
      },
      "source": [
        "class Number():\n",
        "    def __init__(self, value):\n",
        "        self.value = value\n",
        "\n",
        "    def eval(self):\n",
        "        return int(self.value)\n",
        "\n",
        "\n",
        "class BinaryOp():\n",
        "    def __init__(self, left, right):\n",
        "        self.left = left\n",
        "        self.right = right\n",
        "\n",
        "\n",
        "class Sum(BinaryOp):\n",
        "    def eval(self):\n",
        "        return self.left.eval() + self.right.eval()\n",
        "\n",
        "\n",
        "class Sub(BinaryOp):\n",
        "    def eval(self):\n",
        "        return self.left.eval() - self.right.eval()\n",
        "\n",
        "\n",
        "class Print():\n",
        "    def __init__(self, value):\n",
        "        self.value = value\n",
        "\n",
        "    def eval(self):\n",
        "        print(self.value.eval())"
      ],
      "execution_count": 0,
      "outputs": []
    },
    {
      "cell_type": "code",
      "metadata": {
        "id": "yZUnOxhP1wC9",
        "colab_type": "code",
        "colab": {}
      },
      "source": [
        "class Parser():\n",
        "    def __init__(self):\n",
        "        self.pg = ParserGenerator(\n",
        "            # A list of all token names accepted by the parser.\n",
        "            ['NUMBER', 'PRINT', 'OPEN_PAREN', 'CLOSE_PAREN',\n",
        "             'SEMI_COLON', 'SUM', 'SUB']\n",
        "        )\n",
        "\n",
        "    def parse(self):\n",
        "        @self.pg.production('program : PRINT OPEN_PAREN expression CLOSE_PAREN SEMI_COLON')\n",
        "        def program(p):\n",
        "            return Print(p[2])\n",
        "\n",
        "        @self.pg.production('expression : expression SUM expression')\n",
        "        @self.pg.production('expression : expression SUB expression')\n",
        "        def expression(p):\n",
        "            left = p[0]\n",
        "            right = p[2]\n",
        "            operator = p[1]\n",
        "            if operator.gettokentype() == 'SUM':\n",
        "                return Sum(left, right)\n",
        "            elif operator.gettokentype() == 'SUB':\n",
        "                return Sub(left, right)\n",
        "\n",
        "        @self.pg.production('expression : NUMBER')\n",
        "        def number(p):\n",
        "            return Number(p[0].value)\n",
        "\n",
        "        @self.pg.error\n",
        "        def error_handle(token):\n",
        "            raise ValueError(token)\n",
        "\n",
        "    def get_parser(self):\n",
        "        return self.pg.build()"
      ],
      "execution_count": 0,
      "outputs": []
    },
    {
      "cell_type": "code",
      "metadata": {
        "id": "Gm2TSkn826Gb",
        "colab_type": "code",
        "colab": {
          "base_uri": "https://localhost:8080/",
          "height": 49
        },
        "outputId": "47ba31c3-d0a5-4a4d-9ea3-d3536993a219"
      },
      "source": [
        "from rply import ParserGenerator\n",
        "text_input = \"\"\"\n",
        "print(4 + 4 - 2);\n",
        "\"\"\"\n",
        "\n",
        "lexer = Lexer().get_lexer()\n",
        "tokens = lexer.lex(text_input)\n",
        "\n",
        "pg = Parser()\n",
        "pg.parse()\n",
        "parser = pg.get_parser()\n",
        "parser.parse(tokens).eval()"
      ],
      "execution_count": 17,
      "outputs": [
        {
          "output_type": "stream",
          "text": [
            "6\n"
          ],
          "name": "stdout"
        },
        {
          "output_type": "stream",
          "text": [
            "/usr/local/lib/python3.6/dist-packages/ipykernel_launcher.py:34: ParserGeneratorWarning: 4 shift/reduce conflicts\n"
          ],
          "name": "stderr"
        }
      ]
    },
    {
      "cell_type": "code",
      "metadata": {
        "id": "GVGivFxWxK3n",
        "colab_type": "code",
        "colab": {
          "base_uri": "https://localhost:8080/",
          "height": 208
        },
        "outputId": "274672a3-97e0-4824-9c6a-f6094e3af192"
      },
      "source": [
        "import re\n",
        "rex1 = '100000'.getRegrex()\n",
        "rex2 = '1.0E+8'.getRegrex()\n",
        "rex1.compare(rex2)"
      ],
      "execution_count": 12,
      "outputs": [
        {
          "output_type": "error",
          "ename": "AttributeError",
          "evalue": "ignored",
          "traceback": [
            "\u001b[0;31m---------------------------------------------------------------------------\u001b[0m",
            "\u001b[0;31mAttributeError\u001b[0m                            Traceback (most recent call last)",
            "\u001b[0;32m<ipython-input-12-1c57c1210a09>\u001b[0m in \u001b[0;36m<module>\u001b[0;34m()\u001b[0m\n\u001b[1;32m      1\u001b[0m \u001b[0;32mimport\u001b[0m \u001b[0mre\u001b[0m\u001b[0;34m\u001b[0m\u001b[0;34m\u001b[0m\u001b[0m\n\u001b[0;32m----> 2\u001b[0;31m \u001b[0mrex1\u001b[0m \u001b[0;34m=\u001b[0m \u001b[0;34m'100000'\u001b[0m\u001b[0;34m.\u001b[0m\u001b[0mgetRegrex\u001b[0m\u001b[0;34m(\u001b[0m\u001b[0;34m)\u001b[0m\u001b[0;34m\u001b[0m\u001b[0;34m\u001b[0m\u001b[0m\n\u001b[0m\u001b[1;32m      3\u001b[0m \u001b[0mrex2\u001b[0m \u001b[0;34m=\u001b[0m \u001b[0;34m'1.0E+8'\u001b[0m\u001b[0;34m.\u001b[0m\u001b[0mgetRegrex\u001b[0m\u001b[0;34m(\u001b[0m\u001b[0;34m)\u001b[0m\u001b[0;34m\u001b[0m\u001b[0;34m\u001b[0m\u001b[0m\n\u001b[1;32m      4\u001b[0m \u001b[0mrex1\u001b[0m\u001b[0;34m.\u001b[0m\u001b[0mcompare\u001b[0m\u001b[0;34m(\u001b[0m\u001b[0mrex2\u001b[0m\u001b[0;34m)\u001b[0m\u001b[0;34m\u001b[0m\u001b[0;34m\u001b[0m\u001b[0m\n",
            "\u001b[0;31mAttributeError\u001b[0m: 'str' object has no attribute 'getRegrex'"
          ]
        }
      ]
    }
  ]
}