{
  "nbformat": 4,
  "nbformat_minor": 0,
  "metadata": {
    "colab": {
      "name": "Compiler-Final.ipynb",
      "provenance": [],
      "authorship_tag": "ABX9TyOCiM5uZvV9sUT6aiDJWEwg",
      "include_colab_link": true
    },
    "kernelspec": {
      "name": "python3",
      "display_name": "Python 3"
    }
  },
  "cells": [
    {
      "cell_type": "markdown",
      "metadata": {
        "id": "view-in-github",
        "colab_type": "text"
      },
      "source": [
        "<a href=\"https://colab.research.google.com/github/theAkhileshRai/NLP/blob/master/Compiler_Final.ipynb\" target=\"_parent\"><img src=\"https://colab.research.google.com/assets/colab-badge.svg\" alt=\"Open In Colab\"/></a>"
      ]
    },
    {
      "cell_type": "code",
      "metadata": {
        "id": "syhoC59m_m8h",
        "colab_type": "code",
        "colab": {
          "base_uri": "https://localhost:8080/",
          "height": 1000
        },
        "outputId": "c57840e6-b81e-4c96-8fc4-d8a2b57990a7"
      },
      "source": [
        "! pip install ghostscript\n",
        "! pip install pyleri\n",
        "! pip install rply\n",
        "! pip install llvmlite\n",
        "import nltk\n",
        "nltk.download('punkt')\n",
        "nltk.download('averaged_perceptron_tagger')\n",
        "nltk.download('popular')"
      ],
      "execution_count": 11,
      "outputs": [
        {
          "output_type": "stream",
          "text": [
            "Requirement already satisfied: ghostscript in /usr/local/lib/python3.6/dist-packages (0.6)\n",
            "Requirement already satisfied: setuptools in /usr/local/lib/python3.6/dist-packages (from ghostscript) (45.1.0)\n",
            "Requirement already satisfied: pyleri in /usr/local/lib/python3.6/dist-packages (1.3.2)\n",
            "Requirement already satisfied: rply in /usr/local/lib/python3.6/dist-packages (0.7.7)\n",
            "Requirement already satisfied: appdirs in /usr/local/lib/python3.6/dist-packages (from rply) (1.4.3)\n",
            "Requirement already satisfied: llvmlite in /usr/local/lib/python3.6/dist-packages (0.31.0)\n",
            "[nltk_data] Downloading package punkt to /root/nltk_data...\n",
            "[nltk_data]   Package punkt is already up-to-date!\n",
            "[nltk_data] Downloading package averaged_perceptron_tagger to\n",
            "[nltk_data]     /root/nltk_data...\n",
            "[nltk_data]   Package averaged_perceptron_tagger is already up-to-\n",
            "[nltk_data]       date!\n",
            "[nltk_data] Downloading collection 'popular'\n",
            "[nltk_data]    | \n",
            "[nltk_data]    | Downloading package cmudict to /root/nltk_data...\n",
            "[nltk_data]    |   Package cmudict is already up-to-date!\n",
            "[nltk_data]    | Downloading package gazetteers to /root/nltk_data...\n",
            "[nltk_data]    |   Package gazetteers is already up-to-date!\n",
            "[nltk_data]    | Downloading package genesis to /root/nltk_data...\n",
            "[nltk_data]    |   Package genesis is already up-to-date!\n",
            "[nltk_data]    | Downloading package gutenberg to /root/nltk_data...\n",
            "[nltk_data]    |   Package gutenberg is already up-to-date!\n",
            "[nltk_data]    | Downloading package inaugural to /root/nltk_data...\n",
            "[nltk_data]    |   Package inaugural is already up-to-date!\n",
            "[nltk_data]    | Downloading package movie_reviews to\n",
            "[nltk_data]    |     /root/nltk_data...\n",
            "[nltk_data]    |   Package movie_reviews is already up-to-date!\n",
            "[nltk_data]    | Downloading package names to /root/nltk_data...\n",
            "[nltk_data]    |   Package names is already up-to-date!\n",
            "[nltk_data]    | Downloading package shakespeare to /root/nltk_data...\n",
            "[nltk_data]    |   Package shakespeare is already up-to-date!\n",
            "[nltk_data]    | Downloading package stopwords to /root/nltk_data...\n",
            "[nltk_data]    |   Package stopwords is already up-to-date!\n",
            "[nltk_data]    | Downloading package treebank to /root/nltk_data...\n",
            "[nltk_data]    |   Package treebank is already up-to-date!\n",
            "[nltk_data]    | Downloading package twitter_samples to\n",
            "[nltk_data]    |     /root/nltk_data...\n",
            "[nltk_data]    |   Package twitter_samples is already up-to-date!\n",
            "[nltk_data]    | Downloading package omw to /root/nltk_data...\n",
            "[nltk_data]    |   Package omw is already up-to-date!\n",
            "[nltk_data]    | Downloading package wordnet to /root/nltk_data...\n",
            "[nltk_data]    |   Package wordnet is already up-to-date!\n",
            "[nltk_data]    | Downloading package wordnet_ic to /root/nltk_data...\n",
            "[nltk_data]    |   Package wordnet_ic is already up-to-date!\n",
            "[nltk_data]    | Downloading package words to /root/nltk_data...\n",
            "[nltk_data]    |   Package words is already up-to-date!\n",
            "[nltk_data]    | Downloading package maxent_ne_chunker to\n",
            "[nltk_data]    |     /root/nltk_data...\n",
            "[nltk_data]    |   Package maxent_ne_chunker is already up-to-date!\n",
            "[nltk_data]    | Downloading package punkt to /root/nltk_data...\n",
            "[nltk_data]    |   Package punkt is already up-to-date!\n",
            "[nltk_data]    | Downloading package snowball_data to\n",
            "[nltk_data]    |     /root/nltk_data...\n",
            "[nltk_data]    |   Package snowball_data is already up-to-date!\n",
            "[nltk_data]    | Downloading package averaged_perceptron_tagger to\n",
            "[nltk_data]    |     /root/nltk_data...\n",
            "[nltk_data]    |   Package averaged_perceptron_tagger is already up-\n",
            "[nltk_data]    |       to-date!\n",
            "[nltk_data]    | \n",
            "[nltk_data]  Done downloading collection popular\n"
          ],
          "name": "stdout"
        },
        {
          "output_type": "execute_result",
          "data": {
            "text/plain": [
              "True"
            ]
          },
          "metadata": {
            "tags": []
          },
          "execution_count": 11
        }
      ]
    },
    {
      "cell_type": "code",
      "metadata": {
        "id": "F4cH67DKANMj",
        "colab_type": "code",
        "colab": {}
      },
      "source": [
        "from rply import LexerGenerator\n",
        "from rply.token import BaseBox\n",
        "from rply import ParserGenerator\n",
        "class Lexer_text():\n",
        "    def __init__(self):\n",
        "        self.lexer = LexerGenerator()\n",
        "\n",
        "    def _add_tokens(self):\n",
        "        # Noun\n",
        "        #self.lexer.add('OPEN_PAREN', r'\\(')\n",
        "        #self.lexer.add('CLOSE_PAREN', r'\\)')\n",
        "        self.lexer.add('string', r'\\D+')\n",
        "        \n",
        "\n",
        "      \n",
        "        # Ignore spaces\n",
        "        self.lexer.ignore('\\s+')\n",
        "\n",
        "    def get_lexer(self):\n",
        "        self._add_tokens()\n",
        "        return self.lexer.build()"
      ],
      "execution_count": 0,
      "outputs": []
    },
    {
      "cell_type": "code",
      "metadata": {
        "id": "De2jt7Mn_yd5",
        "colab_type": "code",
        "colab": {
          "base_uri": "https://localhost:8080/",
          "height": 32
        },
        "outputId": "1bb537f4-57d5-49ce-e6d4-266c2fce8639"
      },
      "source": [
        "#from lexer import Lexer\n",
        "\n",
        "text_input = 'NNP PRP'\n",
        "\n",
        "lexer = Lexer_text().get_lexer()\n",
        "tokens = lexer.lex(text_input)\n",
        "\n",
        "for token in tokens:\n",
        "    print(token)"
      ],
      "execution_count": 34,
      "outputs": [
        {
          "output_type": "stream",
          "text": [
            "Token('string', 'NNP PRP')\n"
          ],
          "name": "stdout"
        }
      ]
    },
    {
      "cell_type": "code",
      "metadata": {
        "id": "jmxnlLxN596v",
        "colab_type": "code",
        "colab": {
          "base_uri": "https://localhost:8080/",
          "height": 49
        },
        "outputId": "121261d9-7386-4667-c572-4ec9697b0c45"
      },
      "source": [
        "values = [['NNP PRP VBP RB'],['NNP VBP RB']]\n",
        "#setFlag = False\n",
        "string1 = 'NNP'\n",
        "def grammar_Check(string1):\n",
        "  setFlag = False\n",
        "  for i in range(len(values)):\n",
        "    for j in range(len(values[i])):\n",
        "      if string1 ==  values[i][j]:\n",
        "        #print(string1)\n",
        "        setFlag = True\n",
        "  return setFlag\n",
        "\n",
        "l = grammar_Check(string1)\n",
        "print(l)\n",
        "#'NNP PRP VBP RB' ==  values[0][0]\n",
        "#values[0][0]\n",
        "len(values)"
      ],
      "execution_count": 31,
      "outputs": [
        {
          "output_type": "stream",
          "text": [
            "False\n"
          ],
          "name": "stdout"
        },
        {
          "output_type": "execute_result",
          "data": {
            "text/plain": [
              "2"
            ]
          },
          "metadata": {
            "tags": []
          },
          "execution_count": 31
        }
      ]
    },
    {
      "cell_type": "code",
      "metadata": {
        "id": "zGZa-8tb_3dC",
        "colab_type": "code",
        "colab": {}
      },
      "source": [
        "class String1(BaseBox):\n",
        "  def __init__(self, value):\n",
        "    self.value = value \n",
        "  def eval(self):\n",
        "    return self.value\n",
        "\n",
        "from rply import ParserGenerator\n",
        "pg = ParserGenerator(\n",
        "# A list of all token names, accepted by the parser. \n",
        "     ['string']\n",
        ")\n",
        "@pg.production('program : string ')\n",
        "def program(p):\n",
        "  l = grammar_Check(p[0].value)\n",
        "  return l\n",
        "@pg.error\n",
        "def error_handler(token):\n",
        "\n",
        "  raise ValueError(\"Ran into a %s where it was't expected\" % token.gettokentype())\n",
        "\n",
        "parser = pg.build() #should parse string 'ABC'\n",
        "#parser.parse(tokens)"
      ],
      "execution_count": 0,
      "outputs": []
    },
    {
      "cell_type": "code",
      "metadata": {
        "id": "8r1sO5OiBDZJ",
        "colab_type": "code",
        "colab": {
          "base_uri": "https://localhost:8080/",
          "height": 32
        },
        "outputId": "49765fa2-c001-457f-a0dd-a9bcd00fcbb6"
      },
      "source": [
        "parser.parse(lexer.lex(text_input))"
      ],
      "execution_count": 36,
      "outputs": [
        {
          "output_type": "execute_result",
          "data": {
            "text/plain": [
              "False"
            ]
          },
          "metadata": {
            "tags": []
          },
          "execution_count": 36
        }
      ]
    },
    {
      "cell_type": "code",
      "metadata": {
        "id": "PRNdCY22EPfR",
        "colab_type": "code",
        "colab": {
          "base_uri": "https://localhost:8080/",
          "height": 32
        },
        "outputId": "7329ffa5-2bb0-4f25-f9db-e4ede6261460"
      },
      "source": [
        ""
      ],
      "execution_count": 16,
      "outputs": [
        {
          "output_type": "stream",
          "text": [
            "<rply.lexer.LexerStream object at 0x7f3fbe976748>\n"
          ],
          "name": "stdout"
        }
      ]
    }
  ]
}